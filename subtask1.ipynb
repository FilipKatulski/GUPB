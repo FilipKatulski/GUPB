{
 "cells": [
  {
   "cell_type": "markdown",
   "metadata": {},
   "source": [
    "# Subtask 1: Logdata parsing\n",
    "\n",
    "Research on weapons and bots. The data used for this analysis is a log from one game, 100 rounds. Game was played locally, the bots' versions are as were on Monday 17/10/2022.\n",
    "\n"
   ]
  },
  {
   "cell_type": "code",
   "execution_count": 360,
   "metadata": {},
   "outputs": [],
   "source": [
    "import os \n",
    "import json\n",
    "import pandas as pd\n",
    "import matplotlib.pyplot as plt"
   ]
  },
  {
   "cell_type": "code",
   "execution_count": 361,
   "metadata": {},
   "outputs": [
    {
     "data": {
      "text/html": [
       "<div>\n",
       "<style scoped>\n",
       "    .dataframe tbody tr th:only-of-type {\n",
       "        vertical-align: middle;\n",
       "    }\n",
       "\n",
       "    .dataframe tbody tr th {\n",
       "        vertical-align: top;\n",
       "    }\n",
       "\n",
       "    .dataframe thead th {\n",
       "        text-align: right;\n",
       "    }\n",
       "</style>\n",
       "<table border=\"1\" class=\"dataframe\">\n",
       "  <thead>\n",
       "    <tr style=\"text-align: right;\">\n",
       "      <th></th>\n",
       "      <th>date</th>\n",
       "      <th>type</th>\n",
       "      <th>element</th>\n",
       "      <th>message</th>\n",
       "    </tr>\n",
       "  </thead>\n",
       "  <tbody>\n",
       "    <tr>\n",
       "      <th>0</th>\n",
       "      <td>2022-10-20 20:12:45,120</td>\n",
       "      <td>INFO</td>\n",
       "      <td>runner.run:40</td>\n",
       "      <td>Starting game number 1.</td>\n",
       "    </tr>\n",
       "    <tr>\n",
       "      <th>1</th>\n",
       "      <td>2022-10-20 20:12:45,121</td>\n",
       "      <td>DEBUG</td>\n",
       "      <td>runner.run_game:47</td>\n",
       "      <td>Randomly picked arena: generated_9.</td>\n",
       "    </tr>\n",
       "    <tr>\n",
       "      <th>2</th>\n",
       "      <td>2022-10-20 20:12:45,125</td>\n",
       "      <td>DEBUG</td>\n",
       "      <td>arenas.spawn_menhir:126</td>\n",
       "      <td>Menhir spawned at Coords(x=20, y=17).</td>\n",
       "    </tr>\n",
       "    <tr>\n",
       "      <th>3</th>\n",
       "      <td>2022-10-20 20:12:45,199</td>\n",
       "      <td>DEBUG</td>\n",
       "      <td>games._spawn_champions:79</td>\n",
       "      <td>Blue champion for IntercontinentalBajers spawn...</td>\n",
       "    </tr>\n",
       "    <tr>\n",
       "      <th>4</th>\n",
       "      <td>2022-10-20 20:12:45,200</td>\n",
       "      <td>DEBUG</td>\n",
       "      <td>games._spawn_champions:79</td>\n",
       "      <td>Red champion for Killer spawned at Coords(x=8,...</td>\n",
       "    </tr>\n",
       "  </tbody>\n",
       "</table>\n",
       "</div>"
      ],
      "text/plain": [
       "                      date   type                    element  \\\n",
       "0  2022-10-20 20:12:45,120   INFO              runner.run:40   \n",
       "1  2022-10-20 20:12:45,121  DEBUG         runner.run_game:47   \n",
       "2  2022-10-20 20:12:45,125  DEBUG    arenas.spawn_menhir:126   \n",
       "3  2022-10-20 20:12:45,199  DEBUG  games._spawn_champions:79   \n",
       "4  2022-10-20 20:12:45,200  DEBUG  games._spawn_champions:79   \n",
       "\n",
       "                                             message  \n",
       "0                            Starting game number 1.  \n",
       "1                Randomly picked arena: generated_9.  \n",
       "2              Menhir spawned at Coords(x=20, y=17).  \n",
       "3  Blue champion for IntercontinentalBajers spawn...  \n",
       "4  Red champion for Killer spawned at Coords(x=8,...  "
      ]
     },
     "execution_count": 361,
     "metadata": {},
     "output_type": "execute_result"
    }
   ],
   "source": [
    "logfilename = \"results/gupb__2022_10_20_20_11_04.log\"\n",
    "\n",
    "file = open(logfilename, \"r\")\n",
    "data = []\n",
    "order = [\"date\", \"type\", \"element\", \"message\"]\n",
    "\n",
    "for line in file.readlines():\n",
    "    details = line.split(\"|\")\n",
    "    details = [x.strip() for x in details]\n",
    "    structure = {key:value for key, value in zip(order, details)}\n",
    "    data.append(structure)\n",
    "\n",
    "df=pd.DataFrame(data)\n",
    "\n",
    "df.head()\n"
   ]
  },
  {
   "cell_type": "markdown",
   "metadata": {},
   "source": [
    "### 1. Warnings - who is the most \"dangerous\" bot? "
   ]
  },
  {
   "cell_type": "code",
   "execution_count": 362,
   "metadata": {},
   "outputs": [
    {
     "name": "stderr",
     "output_type": "stream",
     "text": [
      "/var/folders/0j/jndg8f256sv9t35cz406vsjc0000gn/T/ipykernel_48625/928938311.py:3: SettingWithCopyWarning: \n",
      "A value is trying to be set on a copy of a slice from a DataFrame.\n",
      "Try using .loc[row_indexer,col_indexer] = value instead\n",
      "\n",
      "See the caveats in the documentation: https://pandas.pydata.org/pandas-docs/stable/user_guide/indexing.html#returning-a-view-versus-a-copy\n",
      "  warning_df[['object','name','log']]=warning_df['message'].str.split(' ', 2, expand=True)\n",
      "/var/folders/0j/jndg8f256sv9t35cz406vsjc0000gn/T/ipykernel_48625/928938311.py:3: SettingWithCopyWarning: \n",
      "A value is trying to be set on a copy of a slice from a DataFrame.\n",
      "Try using .loc[row_indexer,col_indexer] = value instead\n",
      "\n",
      "See the caveats in the documentation: https://pandas.pydata.org/pandas-docs/stable/user_guide/indexing.html#returning-a-view-versus-a-copy\n",
      "  warning_df[['object','name','log']]=warning_df['message'].str.split(' ', 2, expand=True)\n",
      "/var/folders/0j/jndg8f256sv9t35cz406vsjc0000gn/T/ipykernel_48625/928938311.py:3: SettingWithCopyWarning: \n",
      "A value is trying to be set on a copy of a slice from a DataFrame.\n",
      "Try using .loc[row_indexer,col_indexer] = value instead\n",
      "\n",
      "See the caveats in the documentation: https://pandas.pydata.org/pandas-docs/stable/user_guide/indexing.html#returning-a-view-versus-a-copy\n",
      "  warning_df[['object','name','log']]=warning_df['message'].str.split(' ', 2, expand=True)\n"
     ]
    },
    {
     "data": {
      "text/html": [
       "<div>\n",
       "<style scoped>\n",
       "    .dataframe tbody tr th:only-of-type {\n",
       "        vertical-align: middle;\n",
       "    }\n",
       "\n",
       "    .dataframe tbody tr th {\n",
       "        vertical-align: top;\n",
       "    }\n",
       "\n",
       "    .dataframe thead th {\n",
       "        text-align: right;\n",
       "    }\n",
       "</style>\n",
       "<table border=\"1\" class=\"dataframe\">\n",
       "  <thead>\n",
       "    <tr style=\"text-align: right;\">\n",
       "      <th></th>\n",
       "      <th>date</th>\n",
       "      <th>type</th>\n",
       "      <th>element</th>\n",
       "      <th>message</th>\n",
       "      <th>object</th>\n",
       "      <th>name</th>\n",
       "      <th>log</th>\n",
       "    </tr>\n",
       "  </thead>\n",
       "  <tbody>\n",
       "    <tr>\n",
       "      <th>17</th>\n",
       "      <td>2022-10-20 20:12:45,231</td>\n",
       "      <td>WARNING</td>\n",
       "      <td>characters.pick_action:112</td>\n",
       "      <td>Controller Spejson throw an unexpected excepti...</td>\n",
       "      <td>Controller</td>\n",
       "      <td>Spejson</td>\n",
       "      <td>throw an unexpected exception: IndexError('ind...</td>\n",
       "    </tr>\n",
       "    <tr>\n",
       "      <th>21</th>\n",
       "      <td>2022-10-20 20:12:45,249</td>\n",
       "      <td>WARNING</td>\n",
       "      <td>characters.pick_action:112</td>\n",
       "      <td>Controller MemeControllerSnieznyKockodan throw...</td>\n",
       "      <td>Controller</td>\n",
       "      <td>MemeControllerSnieznyKockodan</td>\n",
       "      <td>throw an unexpected exception: IndexError('lis...</td>\n",
       "    </tr>\n",
       "    <tr>\n",
       "      <th>44</th>\n",
       "      <td>2022-10-20 20:12:45,284</td>\n",
       "      <td>WARNING</td>\n",
       "      <td>characters.pick_action:112</td>\n",
       "      <td>Controller Spejson throw an unexpected excepti...</td>\n",
       "      <td>Controller</td>\n",
       "      <td>Spejson</td>\n",
       "      <td>throw an unexpected exception: IndexError('ind...</td>\n",
       "    </tr>\n",
       "    <tr>\n",
       "      <th>48</th>\n",
       "      <td>2022-10-20 20:12:45,285</td>\n",
       "      <td>WARNING</td>\n",
       "      <td>characters.pick_action:112</td>\n",
       "      <td>Controller MemeControllerSnieznyKockodan throw...</td>\n",
       "      <td>Controller</td>\n",
       "      <td>MemeControllerSnieznyKockodan</td>\n",
       "      <td>throw an unexpected exception: IndexError('lis...</td>\n",
       "    </tr>\n",
       "    <tr>\n",
       "      <th>54</th>\n",
       "      <td>2022-10-20 20:12:45,288</td>\n",
       "      <td>WARNING</td>\n",
       "      <td>characters.pick_action:112</td>\n",
       "      <td>Controller NobleControllerMarko throw an unexp...</td>\n",
       "      <td>Controller</td>\n",
       "      <td>NobleControllerMarko</td>\n",
       "      <td>throw an unexpected exception: AttributeError(...</td>\n",
       "    </tr>\n",
       "  </tbody>\n",
       "</table>\n",
       "</div>"
      ],
      "text/plain": [
       "                       date     type                     element  \\\n",
       "17  2022-10-20 20:12:45,231  WARNING  characters.pick_action:112   \n",
       "21  2022-10-20 20:12:45,249  WARNING  characters.pick_action:112   \n",
       "44  2022-10-20 20:12:45,284  WARNING  characters.pick_action:112   \n",
       "48  2022-10-20 20:12:45,285  WARNING  characters.pick_action:112   \n",
       "54  2022-10-20 20:12:45,288  WARNING  characters.pick_action:112   \n",
       "\n",
       "                                              message      object  \\\n",
       "17  Controller Spejson throw an unexpected excepti...  Controller   \n",
       "21  Controller MemeControllerSnieznyKockodan throw...  Controller   \n",
       "44  Controller Spejson throw an unexpected excepti...  Controller   \n",
       "48  Controller MemeControllerSnieznyKockodan throw...  Controller   \n",
       "54  Controller NobleControllerMarko throw an unexp...  Controller   \n",
       "\n",
       "                             name  \\\n",
       "17                        Spejson   \n",
       "21  MemeControllerSnieznyKockodan   \n",
       "44                        Spejson   \n",
       "48  MemeControllerSnieznyKockodan   \n",
       "54           NobleControllerMarko   \n",
       "\n",
       "                                                  log  \n",
       "17  throw an unexpected exception: IndexError('ind...  \n",
       "21  throw an unexpected exception: IndexError('lis...  \n",
       "44  throw an unexpected exception: IndexError('ind...  \n",
       "48  throw an unexpected exception: IndexError('lis...  \n",
       "54  throw an unexpected exception: AttributeError(...  "
      ]
     },
     "execution_count": 362,
     "metadata": {},
     "output_type": "execute_result"
    }
   ],
   "source": [
    "warning_df = df[df['type']==\"WARNING\"]\n",
    "\n",
    "warning_df[['object','name','log']]=warning_df['message'].str.split(' ', 2, expand=True)\n",
    "\n",
    "warning_df.head()"
   ]
  },
  {
   "cell_type": "code",
   "execution_count": 363,
   "metadata": {},
   "outputs": [
    {
     "data": {
      "text/html": [
       "<div>\n",
       "<style scoped>\n",
       "    .dataframe tbody tr th:only-of-type {\n",
       "        vertical-align: middle;\n",
       "    }\n",
       "\n",
       "    .dataframe tbody tr th {\n",
       "        vertical-align: top;\n",
       "    }\n",
       "\n",
       "    .dataframe thead th {\n",
       "        text-align: right;\n",
       "    }\n",
       "</style>\n",
       "<table border=\"1\" class=\"dataframe\">\n",
       "  <thead>\n",
       "    <tr style=\"text-align: right;\">\n",
       "      <th></th>\n",
       "      <th>name</th>\n",
       "      <th>size</th>\n",
       "    </tr>\n",
       "  </thead>\n",
       "  <tbody>\n",
       "    <tr>\n",
       "      <th>0</th>\n",
       "      <td>DodgeControllerElvis</td>\n",
       "      <td>2319</td>\n",
       "    </tr>\n",
       "    <tr>\n",
       "      <th>1</th>\n",
       "      <td>DzikiControllerDzikieBorsuki</td>\n",
       "      <td>113</td>\n",
       "    </tr>\n",
       "    <tr>\n",
       "      <th>2</th>\n",
       "      <td>MemeControllerSnieznyKockodan</td>\n",
       "      <td>1661</td>\n",
       "    </tr>\n",
       "    <tr>\n",
       "      <th>3</th>\n",
       "      <td>NobleControllerMarko</td>\n",
       "      <td>2477</td>\n",
       "    </tr>\n",
       "    <tr>\n",
       "      <th>4</th>\n",
       "      <td>ShrekControllerFiona</td>\n",
       "      <td>2540</td>\n",
       "    </tr>\n",
       "    <tr>\n",
       "      <th>5</th>\n",
       "      <td>Spejson</td>\n",
       "      <td>2322</td>\n",
       "    </tr>\n",
       "  </tbody>\n",
       "</table>\n",
       "</div>"
      ],
      "text/plain": [
       "                            name  size\n",
       "0           DodgeControllerElvis  2319\n",
       "1   DzikiControllerDzikieBorsuki   113\n",
       "2  MemeControllerSnieznyKockodan  1661\n",
       "3           NobleControllerMarko  2477\n",
       "4           ShrekControllerFiona  2540\n",
       "5                        Spejson  2322"
      ]
     },
     "execution_count": 363,
     "metadata": {},
     "output_type": "execute_result"
    }
   ],
   "source": [
    "warning_df.groupby(['name'], as_index=False).size()\n"
   ]
  },
  {
   "cell_type": "code",
   "execution_count": 364,
   "metadata": {},
   "outputs": [
    {
     "data": {
      "image/png": "[encoded data removed]",
      "text/plain": [
       "<Figure size 1440x576 with 1 Axes>"
      ]
     },
     "metadata": {
      "needs_background": "light"
     },
     "output_type": "display_data"
    }
   ],
   "source": [
    "fig, ax = plt.subplots(figsize=(20,8))\n",
    "\n",
    "warn_df = warning_df.groupby(['name'], as_index=False).size()\n",
    "\n",
    "ax.bar(warn_df[\"name\"], warn_df[\"size\"], width=0.5)\n",
    "\n",
    "ax.set_xlabel(\"Controller name\",fontsize=12)\n",
    "ax.set_ylabel(\"Number of WARNING instances\",fontsize=12)\n",
    "ax.set_title(\"Most dangerous bots (for game stability)\", fontsize=15)\n",
    "ax.grid(axis='y')\n",
    "plt.show()"
   ]
  },
  {
   "cell_type": "markdown",
   "metadata": {},
   "source": [
    "### 2. Benadrylowy Barabasz - weapon statistics"
   ]
  },
  {
   "cell_type": "code",
   "execution_count": 365,
   "metadata": {},
   "outputs": [],
   "source": [
    "df[['object','name','log']]=df['message'].str.split(' ', 2, expand=True)\n",
    "\n",
    "barabasz_df = df[df['name']=='BenadrylowyBarabasz']"
   ]
  },
  {
   "cell_type": "code",
   "execution_count": 366,
   "metadata": {},
   "outputs": [
    {
     "data": {
      "text/html": [
       "<div>\n",
       "<style scoped>\n",
       "    .dataframe tbody tr th:only-of-type {\n",
       "        vertical-align: middle;\n",
       "    }\n",
       "\n",
       "    .dataframe tbody tr th {\n",
       "        vertical-align: top;\n",
       "    }\n",
       "\n",
       "    .dataframe thead th {\n",
       "        text-align: right;\n",
       "    }\n",
       "</style>\n",
       "<table border=\"1\" class=\"dataframe\">\n",
       "  <thead>\n",
       "    <tr style=\"text-align: right;\">\n",
       "      <th></th>\n",
       "      <th>date</th>\n",
       "      <th>type</th>\n",
       "      <th>element</th>\n",
       "      <th>message</th>\n",
       "      <th>object</th>\n",
       "      <th>name</th>\n",
       "      <th>log</th>\n",
       "    </tr>\n",
       "  </thead>\n",
       "  <tbody>\n",
       "    <tr>\n",
       "      <th>29</th>\n",
       "      <td>2022-10-20 20:12:45,254</td>\n",
       "      <td>DEBUG</td>\n",
       "      <td>characters.act:79</td>\n",
       "      <td>Champion BenadrylowyBarabasz picked action Act...</td>\n",
       "      <td>Champion</td>\n",
       "      <td>BenadrylowyBarabasz</td>\n",
       "      <td>picked action Action.TURN_LEFT.</td>\n",
       "    </tr>\n",
       "    <tr>\n",
       "      <th>30</th>\n",
       "      <td>2022-10-20 20:12:45,254</td>\n",
       "      <td>DEBUG</td>\n",
       "      <td>characters.turn_left:122</td>\n",
       "      <td>Champion BenadrylowyBarabasz is now facing Fac...</td>\n",
       "      <td>Champion</td>\n",
       "      <td>BenadrylowyBarabasz</td>\n",
       "      <td>is now facing Facing.LEFT.</td>\n",
       "    </tr>\n",
       "    <tr>\n",
       "      <th>56</th>\n",
       "      <td>2022-10-20 20:12:45,289</td>\n",
       "      <td>DEBUG</td>\n",
       "      <td>characters.act:79</td>\n",
       "      <td>Champion BenadrylowyBarabasz picked action Act...</td>\n",
       "      <td>Champion</td>\n",
       "      <td>BenadrylowyBarabasz</td>\n",
       "      <td>picked action Action.TURN_LEFT.</td>\n",
       "    </tr>\n",
       "    <tr>\n",
       "      <th>57</th>\n",
       "      <td>2022-10-20 20:12:45,289</td>\n",
       "      <td>DEBUG</td>\n",
       "      <td>characters.turn_left:122</td>\n",
       "      <td>Champion BenadrylowyBarabasz is now facing Fac...</td>\n",
       "      <td>Champion</td>\n",
       "      <td>BenadrylowyBarabasz</td>\n",
       "      <td>is now facing Facing.DOWN.</td>\n",
       "    </tr>\n",
       "    <tr>\n",
       "      <th>83</th>\n",
       "      <td>2022-10-20 20:12:45,334</td>\n",
       "      <td>DEBUG</td>\n",
       "      <td>characters.act:79</td>\n",
       "      <td>Champion BenadrylowyBarabasz picked action Act...</td>\n",
       "      <td>Champion</td>\n",
       "      <td>BenadrylowyBarabasz</td>\n",
       "      <td>picked action Action.TURN_LEFT.</td>\n",
       "    </tr>\n",
       "  </tbody>\n",
       "</table>\n",
       "</div>"
      ],
      "text/plain": [
       "                       date   type                   element  \\\n",
       "29  2022-10-20 20:12:45,254  DEBUG         characters.act:79   \n",
       "30  2022-10-20 20:12:45,254  DEBUG  characters.turn_left:122   \n",
       "56  2022-10-20 20:12:45,289  DEBUG         characters.act:79   \n",
       "57  2022-10-20 20:12:45,289  DEBUG  characters.turn_left:122   \n",
       "83  2022-10-20 20:12:45,334  DEBUG         characters.act:79   \n",
       "\n",
       "                                              message    object  \\\n",
       "29  Champion BenadrylowyBarabasz picked action Act...  Champion   \n",
       "30  Champion BenadrylowyBarabasz is now facing Fac...  Champion   \n",
       "56  Champion BenadrylowyBarabasz picked action Act...  Champion   \n",
       "57  Champion BenadrylowyBarabasz is now facing Fac...  Champion   \n",
       "83  Champion BenadrylowyBarabasz picked action Act...  Champion   \n",
       "\n",
       "                   name                              log  \n",
       "29  BenadrylowyBarabasz  picked action Action.TURN_LEFT.  \n",
       "30  BenadrylowyBarabasz       is now facing Facing.LEFT.  \n",
       "56  BenadrylowyBarabasz  picked action Action.TURN_LEFT.  \n",
       "57  BenadrylowyBarabasz       is now facing Facing.DOWN.  \n",
       "83  BenadrylowyBarabasz  picked action Action.TURN_LEFT.  "
      ]
     },
     "execution_count": 366,
     "metadata": {},
     "output_type": "execute_result"
    }
   ],
   "source": [
    "barabasz_df.head()"
   ]
  },
  {
   "cell_type": "code",
   "execution_count": 367,
   "metadata": {},
   "outputs": [
    {
     "data": {
      "text/html": [
       "<div>\n",
       "<style scoped>\n",
       "    .dataframe tbody tr th:only-of-type {\n",
       "        vertical-align: middle;\n",
       "    }\n",
       "\n",
       "    .dataframe tbody tr th {\n",
       "        vertical-align: top;\n",
       "    }\n",
       "\n",
       "    .dataframe thead th {\n",
       "        text-align: right;\n",
       "    }\n",
       "</style>\n",
       "<table border=\"1\" class=\"dataframe\">\n",
       "  <thead>\n",
       "    <tr style=\"text-align: right;\">\n",
       "      <th></th>\n",
       "      <th>log</th>\n",
       "      <th>count</th>\n",
       "    </tr>\n",
       "  </thead>\n",
       "  <tbody>\n",
       "    <tr>\n",
       "      <th>0</th>\n",
       "      <td>attacked with its amulet.</td>\n",
       "      <td>159</td>\n",
       "    </tr>\n",
       "    <tr>\n",
       "      <th>1</th>\n",
       "      <td>attacked with its axe.</td>\n",
       "      <td>8</td>\n",
       "    </tr>\n",
       "    <tr>\n",
       "      <th>2</th>\n",
       "      <td>attacked with its bow_loaded.</td>\n",
       "      <td>33</td>\n",
       "    </tr>\n",
       "    <tr>\n",
       "      <th>3</th>\n",
       "      <td>attacked with its bow_unloaded.</td>\n",
       "      <td>24</td>\n",
       "    </tr>\n",
       "    <tr>\n",
       "      <th>4</th>\n",
       "      <td>attacked with its knife.</td>\n",
       "      <td>247</td>\n",
       "    </tr>\n",
       "    <tr>\n",
       "      <th>5</th>\n",
       "      <td>attacked with its sword.</td>\n",
       "      <td>2</td>\n",
       "    </tr>\n",
       "  </tbody>\n",
       "</table>\n",
       "</div>"
      ],
      "text/plain": [
       "                               log  count\n",
       "0        attacked with its amulet.    159\n",
       "1           attacked with its axe.      8\n",
       "2    attacked with its bow_loaded.     33\n",
       "3  attacked with its bow_unloaded.     24\n",
       "4         attacked with its knife.    247\n",
       "5         attacked with its sword.      2"
      ]
     },
     "execution_count": 367,
     "metadata": {},
     "output_type": "execute_result"
    }
   ],
   "source": [
    "barabasz_log_df = barabasz_df.groupby(['log']).size()\n",
    "\n",
    "barabasz_log_df = pd.DataFrame(barabasz_log_df)\n",
    "\n",
    "barabasz_log_df = barabasz_log_df.reset_index()\n",
    "barabasz_log_df.rename(columns={0:'count'}, inplace=True)\n",
    "\n",
    "mask = barabasz_log_df['log'].str.contains('attacked with')\n",
    "\n",
    "barabasz_log_df[mask]\n"
   ]
  },
  {
   "cell_type": "code",
   "execution_count": 368,
   "metadata": {},
   "outputs": [
    {
     "data": {
      "image/png": "[encoded data removed]",
      "text/plain": [
       "<Figure size 1440x576 with 1 Axes>"
      ]
     },
     "metadata": {
      "needs_background": "light"
     },
     "output_type": "display_data"
    }
   ],
   "source": [
    "fig, ax = plt.subplots(figsize=(20,8))\n",
    "\n",
    "ax.bar(barabasz_log_df[mask]['log'], barabasz_log_df[mask][\"count\"], width=0.5)\n",
    "\n",
    "ax.set_xlabel(\"Weapon type\",fontsize=12)\n",
    "ax.set_ylabel(\"Count\",fontsize=12)\n",
    "ax.set_title(\"Weapons usage\", fontsize=15)\n",
    "ax.grid(axis='y')\n",
    "plt.show()\n"
   ]
  },
  {
   "cell_type": "code",
   "execution_count": 369,
   "metadata": {},
   "outputs": [
    {
     "name": "stdout",
     "output_type": "stream",
     "text": [
      "                           log  count\n",
      "848        picked up a amulet.      8\n",
      "849           picked up a axe.     21\n",
      "850    picked up a bow_loaded.     11\n",
      "851  picked up a bow_unloaded.     11\n",
      "852         picked up a knife.    221\n",
      "853         picked up a sword.     18\n"
     ]
    },
    {
     "data": {
      "image/png": "[encoded data removed]",
      "text/plain": [
       "<Figure size 1440x576 with 1 Axes>"
      ]
     },
     "metadata": {
      "needs_background": "light"
     },
     "output_type": "display_data"
    }
   ],
   "source": [
    "fig, ax = plt.subplots(figsize=(20,8))\n",
    "\n",
    "pickedup_mask = barabasz_log_df['log'].str.contains('picked up')\n",
    "ax.bar(barabasz_log_df[pickedup_mask]['log'], barabasz_log_df[pickedup_mask][\"count\"], width=0.5)\n",
    "\n",
    "ax.set_xlabel(\"Weapon type\",fontsize=12)\n",
    "ax.set_ylabel(\"Count\",fontsize=12)\n",
    "ax.set_title(\"Collected weapons\", fontsize=15)\n",
    "ax.grid(axis='y')\n",
    "\n",
    "print(barabasz_log_df[pickedup_mask])\n",
    "\n",
    "plt.show()"
   ]
  },
  {
   "cell_type": "markdown",
   "metadata": {},
   "source": [
    "### 3. Benadrylowy Barabasz - wounds \n",
    "\n",
    "Interesting finding - Barabasz takes wounds for lack of movement. However in it's current configuration it shoud not be possible since the Controller module does not allow for the \"Idle\" action."
   ]
  },
  {
   "cell_type": "code",
   "execution_count": 370,
   "metadata": {},
   "outputs": [
    {
     "data": {
      "text/html": [
       "<div>\n",
       "<style scoped>\n",
       "    .dataframe tbody tr th:only-of-type {\n",
       "        vertical-align: middle;\n",
       "    }\n",
       "\n",
       "    .dataframe tbody tr th {\n",
       "        vertical-align: top;\n",
       "    }\n",
       "\n",
       "    .dataframe thead th {\n",
       "        text-align: right;\n",
       "    }\n",
       "</style>\n",
       "<table border=\"1\" class=\"dataframe\">\n",
       "  <thead>\n",
       "    <tr style=\"text-align: right;\">\n",
       "      <th></th>\n",
       "      <th>log</th>\n",
       "      <th>count</th>\n",
       "    </tr>\n",
       "  </thead>\n",
       "  <tbody>\n",
       "    <tr>\n",
       "      <th>843</th>\n",
       "      <td>penalised for idle time.</td>\n",
       "      <td>44</td>\n",
       "    </tr>\n",
       "    <tr>\n",
       "      <th>879</th>\n",
       "      <td>was damaged by deadly mist.</td>\n",
       "      <td>437</td>\n",
       "    </tr>\n",
       "    <tr>\n",
       "      <th>880</th>\n",
       "      <td>was damaged by weapon cut.</td>\n",
       "      <td>204</td>\n",
       "    </tr>\n",
       "  </tbody>\n",
       "</table>\n",
       "</div>"
      ],
      "text/plain": [
       "                             log  count\n",
       "843     penalised for idle time.     44\n",
       "879  was damaged by deadly mist.    437\n",
       "880   was damaged by weapon cut.    204"
      ]
     },
     "execution_count": 370,
     "metadata": {},
     "output_type": "execute_result"
    }
   ],
   "source": [
    "damage_mask = barabasz_log_df['log'].str.contains('was damaged|penalised for') \n",
    "\n",
    "bb_tiles_df = barabasz_log_df[damage_mask]\n",
    "bb_tiles_df"
   ]
  },
  {
   "cell_type": "code",
   "execution_count": 371,
   "metadata": {},
   "outputs": [
    {
     "name": "stderr",
     "output_type": "stream",
     "text": [
      "/var/folders/0j/jndg8f256sv9t35cz406vsjc0000gn/T/ipykernel_48625/3621947110.py:3: UserWarning: Boolean Series key will be reindexed to match DataFrame index.\n",
      "  ax.bar(bb_tiles_df[damage_mask]['log'], bb_tiles_df[damage_mask][\"count\"], width=0.5)\n"
     ]
    },
    {
     "data": {
      "image/png": "[encoded data removed]",
      "text/plain": [
       "<Figure size 1440x576 with 1 Axes>"
      ]
     },
     "metadata": {
      "needs_background": "light"
     },
     "output_type": "display_data"
    }
   ],
   "source": [
    "fig, ax = plt.subplots(figsize=(20,8))\n",
    "\n",
    "ax.bar(bb_tiles_df[damage_mask]['log'], bb_tiles_df[damage_mask][\"count\"], width=0.5)\n",
    "\n",
    "ax.set_xlabel(\"Damage type\",fontsize=12)\n",
    "ax.set_ylabel(\"Count\",fontsize=12)\n",
    "ax.set_title(\"Source of damage\", fontsize=15)\n",
    "ax.grid(axis='y')\n",
    "plt.show()"
   ]
  }
 ],
 "metadata": {
  "kernelspec": {
   "display_name": "Python 3.9.12",
   "language": "python",
   "name": "python3"
  },
  "language_info": {
   "codemirror_mode": {
    "name": "ipython",
    "version": 3
   },
   "file_extension": ".py",
   "mimetype": "text/x-python",
   "name": "python",
   "nbconvert_exporter": "python",
   "pygments_lexer": "ipython3",
   "version": "3.9.12"
  },
  "orig_nbformat": 4,
  "vscode": {
   "interpreter": {
    "hash": "a447cce11633770116628ba2ec33bfc43075824ffa0595b2fdbcb87d335f18be"
   }
  }
 },
 "nbformat": 4,
 "nbformat_minor": 2
}
